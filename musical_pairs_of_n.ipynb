{
 "cells": [
  {
   "cell_type": "code",
   "execution_count": 1,
   "metadata": {},
   "outputs": [],
   "source": [
    "import random\n",
    "\n",
    "thumbs_up_gang = sorted(['basira', 'gaby', 'hasanat', 'iman', 'krushang', 'rajiv', 'tamar', 'xiaona'])\n",
    "total_number_of_people = len(thumbs_up_gang)"
   ]
  },
  {
   "cell_type": "code",
   "execution_count": 2,
   "metadata": {},
   "outputs": [],
   "source": [
    "def get_all_unique_pairs(list_of_people):\n",
    "    all_possible_unique_pairs = []\n",
    "    for index, name in enumerate(list_of_people):\n",
    "        for upper_index in range(index + 1, len(list_of_people)):\n",
    "            pair = [list_of_people[index]]\n",
    "            pair.append(list_of_people[upper_index])\n",
    "            all_possible_unique_pairs.append(pair)\n",
    "    return all_possible_unique_pairs"
   ]
  },
  {
   "cell_type": "code",
   "execution_count": 3,
   "metadata": {},
   "outputs": [],
   "source": [
    "def get_pairs_for_the_day(remaining_unique_pairs, all_ordered_pairs):\n",
    "    ruled_out_for_day = []\n",
    "    while len(ruled_out_for_day) < total_number_of_people:\n",
    "        ordered_pairs_for_day = []\n",
    "        ruled_out_for_day = []\n",
    "        for each_pair in remaining_unique_pairs:\n",
    "            if each_pair not in all_ordered_pairs:\n",
    "                if each_pair[0] not in ruled_out_for_day and each_pair[1] not in ruled_out_for_day:\n",
    "                    ordered_pairs_for_day.append(each_pair)\n",
    "                    ruled_out_for_day.extend(each_pair)\n",
    "        remaining_unique_pairs =  remaining_unique_pairs[1:] + [remaining_unique_pairs[0]] \n",
    "    return ordered_pairs_for_day\n",
    "\n",
    "#     if len(ruled_out_for_day) == total_number_of_people:\n",
    "#         return ordered_pairs_for_day\n",
    "#     else:\n",
    "#         remaining_unique_pairs =  remaining_unique_pairs[1:] + [remaining_unique_pairs[0]]\n",
    "#         return ......... get_pairs_for_the_day(remaining_unique_pairs, all_ordered_pairs)"
   ]
  },
  {
   "cell_type": "code",
   "execution_count": 4,
   "metadata": {},
   "outputs": [],
   "source": [
    "def get_all_ordered_pairs(all_unique_pairs):\n",
    "    total_unique_pairs = len(all_unique_pairs)\n",
    "    all_ordered_pairs = []\n",
    "    remaining_unique_pairs = all_unique_pairs\n",
    "    while len(remaining_unique_pairs) > 0:\n",
    "        received_ordered_pairs = get_pairs_for_the_day(remaining_unique_pairs, all_ordered_pairs)\n",
    "        all_ordered_pairs.extend(received_ordered_pairs)\n",
    "        remaining_unique_pairs = list(filter(lambda pair: pair not in all_ordered_pairs, remaining_unique_pairs))\n",
    "    return all_ordered_pairs"
   ]
  },
  {
   "cell_type": "code",
   "execution_count": 5,
   "metadata": {},
   "outputs": [],
   "source": [
    "def get_musical_pairs(week, group):\n",
    "    groups_by_day = {}\n",
    "    random.seed(week)\n",
    "    random.shuffle(group)\n",
    "    all_unique_pairs = get_all_unique_pairs(group)\n",
    "    paired_and_ordered_list = get_all_ordered_pairs(all_unique_pairs)\n",
    "    all_pairs_by_day = [list(t) for t in zip(*[iter(paired_and_ordered_list)]*int(total_number_of_people/2))]\n",
    "    len(all_pairs_by_day)\n",
    "    for index in range(0, int(len(all_unique_pairs)/(total_number_of_people/2))):\n",
    "        groups_by_day[index] = all_pairs_by_day[index]\n",
    "    return groups_by_day"
   ]
  },
  {
   "cell_type": "code",
   "execution_count": 6,
   "metadata": {},
   "outputs": [
    {
     "data": {
      "text/plain": [
       "{0: [['basira', 'krushang'],\n",
       "  ['rajiv', 'xiaona'],\n",
       "  ['tamar', 'iman'],\n",
       "  ['hasanat', 'gaby']],\n",
       " 1: [['basira', 'rajiv'],\n",
       "  ['krushang', 'xiaona'],\n",
       "  ['tamar', 'hasanat'],\n",
       "  ['iman', 'gaby']],\n",
       " 2: [['basira', 'xiaona'],\n",
       "  ['krushang', 'rajiv'],\n",
       "  ['tamar', 'gaby'],\n",
       "  ['iman', 'hasanat']],\n",
       " 3: [['basira', 'tamar'],\n",
       "  ['krushang', 'iman'],\n",
       "  ['rajiv', 'hasanat'],\n",
       "  ['xiaona', 'gaby']],\n",
       " 4: [['basira', 'iman'],\n",
       "  ['krushang', 'tamar'],\n",
       "  ['rajiv', 'gaby'],\n",
       "  ['xiaona', 'hasanat']],\n",
       " 5: [['basira', 'hasanat'],\n",
       "  ['krushang', 'gaby'],\n",
       "  ['rajiv', 'tamar'],\n",
       "  ['xiaona', 'iman']],\n",
       " 6: [['basira', 'gaby'],\n",
       "  ['krushang', 'hasanat'],\n",
       "  ['rajiv', 'iman'],\n",
       "  ['xiaona', 'tamar']]}"
      ]
     },
     "execution_count": 6,
     "metadata": {},
     "output_type": "execute_result"
    }
   ],
   "source": [
    " get_musical_pairs(\"week1\", sorted(thumbs_up_gang))"
   ]
  },
  {
   "cell_type": "code",
   "execution_count": 7,
   "metadata": {},
   "outputs": [
    {
     "data": {
      "text/plain": [
       "['basira',\n",
       " 'gaby',\n",
       " 'hasanat',\n",
       " 'iman',\n",
       " 'krushang',\n",
       " 'rajiv',\n",
       " 'tamar',\n",
       " 'xiaona',\n",
       " 'jake',\n",
       " 'sid']"
      ]
     },
     "execution_count": 7,
     "metadata": {},
     "output_type": "execute_result"
    }
   ],
   "source": [
    "thumbs_up_gang = thumbs_up_gang + ['jake', 'sid']\n",
    "total_number_of_people = len(thumbs_up_gang)\n",
    "thumbs_up_gang"
   ]
  },
  {
   "cell_type": "code",
   "execution_count": 14,
   "metadata": {},
   "outputs": [
    {
     "data": {
      "text/plain": [
       "{0: [['krushang', 'sid'],\n",
       "  ['rajiv', 'xiaona'],\n",
       "  ['basira', 'iman'],\n",
       "  ['jake', 'tamar'],\n",
       "  ['hasanat', 'gaby']],\n",
       " 1: [['krushang', 'basira'],\n",
       "  ['sid', 'rajiv'],\n",
       "  ['xiaona', 'iman'],\n",
       "  ['jake', 'hasanat'],\n",
       "  ['tamar', 'gaby']],\n",
       " 2: [['krushang', 'xiaona'],\n",
       "  ['sid', 'basira'],\n",
       "  ['rajiv', 'iman'],\n",
       "  ['jake', 'gaby'],\n",
       "  ['tamar', 'hasanat']],\n",
       " 3: [['sid', 'jake'],\n",
       "  ['rajiv', 'basira'],\n",
       "  ['xiaona', 'tamar'],\n",
       "  ['iman', 'hasanat'],\n",
       "  ['krushang', 'gaby']],\n",
       " 4: [['krushang', 'jake'],\n",
       "  ['sid', 'xiaona'],\n",
       "  ['rajiv', 'tamar'],\n",
       "  ['basira', 'hasanat'],\n",
       "  ['iman', 'gaby']],\n",
       " 5: [['sid', 'gaby'],\n",
       "  ['rajiv', 'jake'],\n",
       "  ['xiaona', 'basira'],\n",
       "  ['iman', 'tamar'],\n",
       "  ['krushang', 'hasanat']],\n",
       " 6: [['krushang', 'iman'],\n",
       "  ['sid', 'tamar'],\n",
       "  ['rajiv', 'hasanat'],\n",
       "  ['xiaona', 'jake'],\n",
       "  ['basira', 'gaby']],\n",
       " 7: [['krushang', 'tamar'],\n",
       "  ['sid', 'iman'],\n",
       "  ['rajiv', 'gaby'],\n",
       "  ['xiaona', 'hasanat'],\n",
       "  ['basira', 'jake']],\n",
       " 8: [['krushang', 'rajiv'],\n",
       "  ['sid', 'hasanat'],\n",
       "  ['xiaona', 'gaby'],\n",
       "  ['basira', 'tamar'],\n",
       "  ['iman', 'jake']]}"
      ]
     },
     "execution_count": 14,
     "metadata": {},
     "output_type": "execute_result"
    }
   ],
   "source": [
    "get_musical_pairs(\"week5\", sorted(thumbs_up_gang))"
   ]
  },
  {
   "cell_type": "code",
   "execution_count": null,
   "metadata": {},
   "outputs": [],
   "source": []
  }
 ],
 "metadata": {
  "kernelspec": {
   "display_name": "Python 3",
   "language": "python",
   "name": "python3"
  },
  "language_info": {
   "codemirror_mode": {
    "name": "ipython",
    "version": 3
   },
   "file_extension": ".py",
   "mimetype": "text/x-python",
   "name": "python",
   "nbconvert_exporter": "python",
   "pygments_lexer": "ipython3",
   "version": "3.8.3"
  }
 },
 "nbformat": 4,
 "nbformat_minor": 4
}
